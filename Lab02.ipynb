{
  "nbformat": 4,
  "nbformat_minor": 0,
  "metadata": {
    "colab": {
      "provenance": [],
      "authorship_tag": "ABX9TyMrF+Gx3/NZIG8zxSNHeC16"
    },
    "kernelspec": {
      "name": "python3",
      "display_name": "Python 3"
    },
    "language_info": {
      "name": "python"
    }
  },
  "cells": [
    {
      "cell_type": "code",
      "execution_count": 1,
      "metadata": {
        "colab": {
          "base_uri": "https://localhost:8080/"
        },
        "id": "YZ7gqWW-VhyC",
        "outputId": "930421c8-a5b4-4c9b-d40b-c8c703a902d4"
      },
      "outputs": [
        {
          "output_type": "stream",
          "name": "stdout",
          "text": [
            "Криптограмма: енеьи зоври ьдипн н цттален в яоаок \n"
          ]
        }
      ],
      "source": [
        "def route_cipher(text, password):\n",
        "    n = len(password)\n",
        "    m = (len(text) + n - 1) // n  # Вычисляем количество строк\n",
        "    # Дополняем текст, если необходимо\n",
        "    text += ' ' * (m * n - len(text))\n",
        "    # Записываем текст в таблицу\n",
        "    table = [text[i * n:(i + 1) * n] for i in range(m)]\n",
        "    # Сортируем столбцы по алфавитному порядку пароля\n",
        "    sorted_columns = sorted(range(n), key=lambda x: password[x])\n",
        "    # Собираем криптограмму\n",
        "    ciphertext = ''.join([table[i][j] for j in sorted_columns for i in range(m)])\n",
        "    return ciphertext\n",
        "\n",
        "# Пример использования\n",
        "text = \"нельзя недооценивать противника\"\n",
        "password = \"пароль\"\n",
        "ciphertext = route_cipher(text, password)\n",
        "print(\"Криптограмма:\", ciphertext)"
      ]
    },
    {
      "cell_type": "code",
      "source": [
        "def create_grid(k):\n",
        "    grid = [[(i * k + j + 1) for j in range(k)] for i in range(k)]\n",
        "    return grid\n",
        "\n",
        "def rotate_grid(grid):\n",
        "    return [list(row) for row in zip(*grid[::-1])]\n",
        "\n",
        "def grid_cipher(text, password):\n",
        "    k = int(len(password) ** 0.5)\n",
        "    grid = create_grid(k)\n",
        "    # Создаем большую решетку\n",
        "    big_grid = [[0] * (2 * k) for _ in range(2 * k)]\n",
        "    for _ in range(4):\n",
        "        for i in range(k):\n",
        "            for j in range(k):\n",
        "                big_grid[i][j] = grid[i][j]\n",
        "        grid = rotate_grid(grid)\n",
        "    # Заполняем прорези текстом\n",
        "    text_index = 0\n",
        "    for i in range(2 * k):\n",
        "        for j in range(2 * k):\n",
        "            if big_grid[i][j] != 0:\n",
        "                big_grid[i][j] = text[text_index]\n",
        "                text_index += 1\n",
        "    # Собираем криптограмму\n",
        "    ciphertext = ''.join([big_grid[i][j] for j in range(2 * k) for i in range(2 * k) if big_grid[i][j] != 0])\n",
        "    return ciphertext\n",
        "\n",
        "# Пример использования\n",
        "text = \"договор подписали\"\n",
        "password = \"шифр\"\n",
        "ciphertext = grid_cipher(text, password)\n",
        "print(\"Криптограмма:\", ciphertext)"
      ],
      "metadata": {
        "colab": {
          "base_uri": "https://localhost:8080/"
        },
        "id": "3cGGfdejWI7V",
        "outputId": "c0f633ff-b4e5-4dc9-ddaf-0e6f9e71cedb"
      },
      "execution_count": 3,
      "outputs": [
        {
          "output_type": "stream",
          "name": "stdout",
          "text": [
            "Криптограмма: дгоо\n"
          ]
        }
      ]
    },
    {
      "cell_type": "code",
      "source": [
        "def vigenere_cipher(text, key):\n",
        "    alphabet = 'абвгдеёжзийклмнопрстуфхцчшщъыьэюя'\n",
        "    key_length = len(key)\n",
        "    key_as_indices = [alphabet.index(k) for k in key]\n",
        "    ciphertext = ''\n",
        "    for i, char in enumerate(text):\n",
        "        if char in alphabet:\n",
        "            shift = key_as_indices[i % key_length]\n",
        "            original_index = alphabet.index(char)\n",
        "            new_index = (original_index + shift) % len(alphabet)\n",
        "            ciphertext += alphabet[new_index]\n",
        "        else:\n",
        "            ciphertext += char\n",
        "    return ciphertext\n",
        "\n",
        "# Пример использования\n",
        "text = \"криптография серьезная наука\"\n",
        "key = \"математика\"\n",
        "ciphertext = vigenere_cipher(text, key)\n",
        "print(\"Криптограмма:\", ciphertext)"
      ],
      "metadata": {
        "colab": {
          "base_uri": "https://localhost:8080/"
        },
        "id": "kPFznDYNWMio",
        "outputId": "872e5373-b7b2-4e3a-8b07-857be0abb7a0"
      },
      "execution_count": 4,
      "outputs": [
        {
          "output_type": "stream",
          "name": "stdout",
          "text": [
            "Криптограмма: чрыфяохщкфхя цсронтнмя тмуэи\n"
          ]
        }
      ]
    }
  ]
}