{
  "nbformat": 4,
  "nbformat_minor": 0,
  "metadata": {
    "colab": {
      "provenance": [],
      "authorship_tag": "ABX9TyOLcKq3KBFS1hQDkwhceYmh"
    },
    "kernelspec": {
      "name": "python3",
      "display_name": "Python 3"
    },
    "language_info": {
      "name": "python"
    }
  },
  "cells": [
    {
      "cell_type": "code",
      "execution_count": 1,
      "metadata": {
        "colab": {
          "base_uri": "https://localhost:8080/"
        },
        "id": "wxSl4LWhaaUF",
        "outputId": "36be3ad5-80dc-45cf-c3db-38d975f5a285"
      },
      "outputs": [
        {
          "output_type": "stream",
          "name": "stdout",
          "text": [
            "Зашифрованный текст: УСЦШБЛ\n"
          ]
        }
      ],
      "source": [
        "def gamma_encrypt(text, gamma, alphabet):\n",
        "    # Преобразуем текст и гамму в числовые последовательности\n",
        "    text_numbers = [alphabet.index(char) + 1 for char in text]\n",
        "    gamma_numbers = [alphabet.index(char) + 1 for char in gamma]\n",
        "\n",
        "    # Шифруем текст\n",
        "    encrypted_numbers = []\n",
        "    for i in range(len(text_numbers)):\n",
        "        encrypted_number = (text_numbers[i] + gamma_numbers[i % len(gamma_numbers)]) % 33\n",
        "        if encrypted_number == 0:\n",
        "            encrypted_number = 33\n",
        "        encrypted_numbers.append(encrypted_number)\n",
        "\n",
        "    # Преобразуем числовую последовательность в зашифрованный текст\n",
        "    encrypted_text = ''.join([alphabet[number - 1] for number in encrypted_numbers])\n",
        "\n",
        "    return encrypted_text\n",
        "\n",
        "# Пример использования\n",
        "alphabet = \"АБВГДЕЁЖЗИЙКЛМНОПРСТУФХЦЧШЩЪЫЬЭЮЯ\"\n",
        "text = \"ПРИКАЗ\"\n",
        "gamma = \"ГАММА\"\n",
        "\n",
        "encrypted_text = gamma_encrypt(text, gamma, alphabet)\n",
        "print(\"Зашифрованный текст:\", encrypted_text)"
      ]
    },
    {
      "cell_type": "code",
      "source": [
        "def gamma_decrypt(encrypted_text, gamma, alphabet):\n",
        "    # Преобразуем зашифрованный текст и гамму в числовые последовательности\n",
        "    encrypted_numbers = [alphabet.index(char) + 1 for char in encrypted_text]\n",
        "    gamma_numbers = [alphabet.index(char) + 1 for char in gamma]\n",
        "\n",
        "    # Дешифруем текст\n",
        "    decrypted_numbers = []\n",
        "    for i in range(len(encrypted_numbers)):\n",
        "        decrypted_number = (encrypted_numbers[i] - gamma_numbers[i % len(gamma_numbers)]) % 33\n",
        "        if decrypted_number == 0:\n",
        "            decrypted_number = 33\n",
        "        decrypted_numbers.append(decrypted_number)\n",
        "\n",
        "    # Преобразуем числовую последовательность в исходный текст\n",
        "    decrypted_text = ''.join([alphabet[number - 1] for number in decrypted_numbers])\n",
        "\n",
        "    return decrypted_text\n",
        "\n",
        "# Пример использования\n",
        "decrypted_text = gamma_decrypt(encrypted_text, gamma, alphabet)\n",
        "print(\"Дешифрованный текст:\", decrypted_text)"
      ],
      "metadata": {
        "colab": {
          "base_uri": "https://localhost:8080/"
        },
        "id": "lcqNvVIJajiO",
        "outputId": "8e55b4ce-5588-4835-eedf-bebc48ae4cc9"
      },
      "execution_count": 2,
      "outputs": [
        {
          "output_type": "stream",
          "name": "stdout",
          "text": [
            "Дешифрованный текст: ПРИКАЗ\n"
          ]
        }
      ]
    }
  ]
}