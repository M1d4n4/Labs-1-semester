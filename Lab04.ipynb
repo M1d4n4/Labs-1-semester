{
  "nbformat": 4,
  "nbformat_minor": 0,
  "metadata": {
    "colab": {
      "provenance": [],
      "authorship_tag": "ABX9TyPIdPUUnmjWSIoCXS4B8Cct"
    },
    "kernelspec": {
      "name": "python3",
      "display_name": "Python 3"
    },
    "language_info": {
      "name": "python"
    }
  },
  "cells": [
    {
      "cell_type": "code",
      "execution_count": 1,
      "metadata": {
        "colab": {
          "base_uri": "https://localhost:8080/"
        },
        "id": "q434zL8d9Xsw",
        "outputId": "fa6b0d5b-c348-4304-cc58-68aa2c76471b"
      },
      "outputs": [
        {
          "output_type": "stream",
          "name": "stdout",
          "text": [
            "НОД(12345, 54321) = 3\n"
          ]
        }
      ],
      "source": [
        "def euclidean_algorithm(a, b):\n",
        "    while b != 0:\n",
        "        a, b = b, a % b\n",
        "    return a\n",
        "\n",
        "# Пример использования\n",
        "a = 12345\n",
        "b = 54321\n",
        "print(f\"НОД({a}, {b}) = {euclidean_algorithm(a, b)}\")"
      ]
    },
    {
      "cell_type": "code",
      "source": [
        "def binary_euclidean_algorithm(a, b):\n",
        "    g = 1\n",
        "    while a % 2 == 0 and b % 2 == 0:\n",
        "        a = a // 2\n",
        "        b = b // 2\n",
        "        g = g * 2\n",
        "    while a != 0:\n",
        "        while a % 2 == 0:\n",
        "            a = a // 2\n",
        "        while b % 2 == 0:\n",
        "            b = b // 2\n",
        "        if a >= b:\n",
        "            a = a - b\n",
        "        else:\n",
        "            b = b - a\n",
        "    return g * b\n",
        "\n",
        "# Пример использования\n",
        "a = 12345\n",
        "b = 54321\n",
        "print(f\"НОД({a}, {b}) = {binary_euclidean_algorithm(a, b)}\")"
      ],
      "metadata": {
        "colab": {
          "base_uri": "https://localhost:8080/"
        },
        "id": "qna0umFW_DmG",
        "outputId": "1d66bcc7-9ffe-4889-948f-54324bc8ba08"
      },
      "execution_count": 2,
      "outputs": [
        {
          "output_type": "stream",
          "name": "stdout",
          "text": [
            "НОД(12345, 54321) = 3\n"
          ]
        }
      ]
    },
    {
      "cell_type": "code",
      "source": [
        "def extended_euclidean_algorithm(a, b):\n",
        "    r0, r1 = a, b\n",
        "    x0, x1 = 1, 0\n",
        "    y0, y1 = 0, 1\n",
        "    while r1 != 0:\n",
        "        q = r0 // r1\n",
        "        r0, r1 = r1, r0 - q * r1\n",
        "        x0, x1 = x1, x0 - q * x1\n",
        "        y0, y1 = y1, y0 - q * y1\n",
        "    return r0, x0, y0\n",
        "\n",
        "# Пример использования\n",
        "a = 12345\n",
        "b = 54321\n",
        "d, x, y = extended_euclidean_algorithm(a, b)\n",
        "print(f\"НОД({a}, {b}) = {d}, коэффициенты: x = {x}, y = {y}\")"
      ],
      "metadata": {
        "colab": {
          "base_uri": "https://localhost:8080/"
        },
        "id": "WCZMDHqN_KK1",
        "outputId": "0b922441-3bd4-447e-a510-bdfca5d79192"
      },
      "execution_count": 3,
      "outputs": [
        {
          "output_type": "stream",
          "name": "stdout",
          "text": [
            "НОД(12345, 54321) = 3, коэффициенты: x = 3617, y = -822\n"
          ]
        }
      ]
    },
    {
      "cell_type": "code",
      "source": [
        "def extended_binary_euclidean_algorithm(a, b):\n",
        "    g = 1\n",
        "    while a % 2 == 0 and b % 2 == 0:\n",
        "        a = a // 2\n",
        "        b = b // 2\n",
        "        g = g * 2\n",
        "    u, v = a, b\n",
        "    A, B, C, D = 1, 0, 0, 1\n",
        "    while u != 0:\n",
        "        while u % 2 == 0:\n",
        "            u = u // 2\n",
        "            if A % 2 == 0 and B % 2 == 0:\n",
        "                A, B = A // 2, B // 2\n",
        "            else:\n",
        "                A, B = (A + b) // 2, (B - a) // 2\n",
        "        while v % 2 == 0:\n",
        "            v = v // 2\n",
        "            if C % 2 == 0 and D % 2 == 0:\n",
        "                C, D = C // 2, D // 2\n",
        "            else:\n",
        "                C, D = (C + b) // 2, (D - a) // 2\n",
        "        if u >= v:\n",
        "            u, A, B = u - v, A - C, B - D\n",
        "        else:\n",
        "            v, C, D = v - u, C - A, D - B\n",
        "    d = g * v\n",
        "    x, y = C, D\n",
        "    return d, x, y\n",
        "\n",
        "# Пример использования\n",
        "a = 12345\n",
        "b = 54321\n",
        "d, x, y = extended_binary_euclidean_algorithm(a, b)\n",
        "print(f\"НОД({a}, {b}) = {d}, коэффициенты: x = {x}, y = {y}\")"
      ],
      "metadata": {
        "colab": {
          "base_uri": "https://localhost:8080/"
        },
        "id": "3TJWHeII_SCb",
        "outputId": "65725564-be7d-4938-87cd-ae74021d082a"
      },
      "execution_count": 4,
      "outputs": [
        {
          "output_type": "stream",
          "name": "stdout",
          "text": [
            "НОД(12345, 54321) = 3, коэффициенты: x = -14490, y = 3293\n"
          ]
        }
      ]
    }
  ]
}