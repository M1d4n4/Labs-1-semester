{
  "nbformat": 4,
  "nbformat_minor": 0,
  "metadata": {
    "colab": {
      "provenance": [],
      "authorship_tag": "ABX9TyMgcwYckRFBENHqdIRqvW/e"
    },
    "kernelspec": {
      "name": "python3",
      "display_name": "Python 3"
    },
    "language_info": {
      "name": "python"
    }
  },
  "cells": [
    {
      "cell_type": "code",
      "execution_count": 1,
      "metadata": {
        "colab": {
          "base_uri": "https://localhost:8080/"
        },
        "id": "HMIkKvkATdo1",
        "outputId": "584d523e-8802-4508-8001-2c16cc6cafc5"
      },
      "outputs": [
        {
          "output_type": "stream",
          "name": "stdout",
          "text": [
            "Введите число для разложения на множители: 1359331\n",
            "Нетривиальный делитель числа 1359331: 1151\n"
          ]
        }
      ],
      "source": [
        "import math\n",
        "\n",
        "# Функция для вычисления НОД (наибольшего общего делителя)\n",
        "def gcd(a, b):\n",
        "    while b != 0:\n",
        "        a, b = b, a % b\n",
        "    return a\n",
        "\n",
        "# Функция f(x) = x^2 + c mod n\n",
        "def f(x, c, n):\n",
        "    return (x * x + c) % n\n",
        "\n",
        "# Реализация ρ-метода Полларда\n",
        "def pollards_rho(n, c=1):\n",
        "    if n == 1:\n",
        "        return None  # Нет делителей\n",
        "    if n % 2 == 0:\n",
        "        return 2  # Если число чётное, возвращаем 2\n",
        "\n",
        "    # Инициализация переменных\n",
        "    a = b = c\n",
        "    while True:\n",
        "        # Выполняем один шаг для a и два шага для b\n",
        "        a = f(a, c, n)\n",
        "        b = f(f(b, c, n), c, n)\n",
        "\n",
        "        # Вычисляем d = НОД(|a - b|, n)\n",
        "        d = gcd(abs(a - b), n)\n",
        "\n",
        "        # Проверяем результат\n",
        "        if d == 1:\n",
        "            continue  # Продолжаем итерации\n",
        "        elif d == n:\n",
        "            return None  # Делитель не найден\n",
        "        else:\n",
        "            return d  # Найден нетривиальный делитель\n",
        "\n",
        "# Основная функция для тестирования\n",
        "if __name__ == \"__main__\":\n",
        "    # Ввод числа n\n",
        "    n = int(input(\"Введите число для разложения на множители: \"))\n",
        "    c = 1  # Константа для функции f(x)\n",
        "\n",
        "    # Поиск делителя с помощью ρ-метода Полларда\n",
        "    factor = pollards_rho(n, c)\n",
        "\n",
        "    if factor is None:\n",
        "        print(\"Делитель не найден.\")\n",
        "    else:\n",
        "        print(f\"Нетривиальный делитель числа {n}: {factor}\")"
      ]
    }
  ]
}