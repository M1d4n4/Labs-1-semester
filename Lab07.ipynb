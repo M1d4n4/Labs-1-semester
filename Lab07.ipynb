{
  "nbformat": 4,
  "nbformat_minor": 0,
  "metadata": {
    "colab": {
      "provenance": [],
      "authorship_tag": "ABX9TyOchQWNj0BAAyi+Zo77v8NB"
    },
    "kernelspec": {
      "name": "python3",
      "display_name": "Python 3"
    },
    "language_info": {
      "name": "python"
    }
  },
  "cells": [
    {
      "cell_type": "code",
      "source": [
        "def extended_gcd(a, b):\n",
        "    \"\"\"Расширенный алгоритм Евклида для нахождения НОД и коэффициентов Безу.\"\"\"\n",
        "    if a == 0:\n",
        "        return b, 0, 1\n",
        "    else:\n",
        "        g, x, y = extended_gcd(b % a, a)\n",
        "        return g, y - (b // a) * x, x\n",
        "\n",
        "def mod_inverse(a, m):\n",
        "    \"\"\"Нахождение обратного элемента по модулю.\"\"\"\n",
        "    g, x, y = extended_gcd(a, m)\n",
        "    if g != 1:\n",
        "        return None  # Обратный элемент не существует, если a и m не взаимно просты\n",
        "    else:\n",
        "        return x % m\n",
        "\n",
        "def pollards_rho_discrete_log(a, b, p, order):\n",
        "    \"\"\"Реализация p-метода Полларда для дискретного логарифмирования.\"\"\"\n",
        "    def f(c):\n",
        "        \"\"\"Случайное отображение.\"\"\"\n",
        "        if c < p // 2:\n",
        "            return (a * c) % p\n",
        "        else:\n",
        "            return (b * c) % p\n",
        "\n",
        "    def log_f(c, u, v):\n",
        "        \"\"\"Вычисление логарифма для отображения f.\"\"\"\n",
        "        if c < p // 2:\n",
        "            return (u + 1) % order, v % order\n",
        "        else:\n",
        "            return u % order, (v + 1) % order\n",
        "\n",
        "    # Шаг 1: Инициализация\n",
        "    u, v = 2, 2  # Произвольные начальные значения\n",
        "    c = (pow(a, u, p) * pow(b, v, p)) % p\n",
        "    d = c\n",
        "    u_c, v_c = u, v\n",
        "    u_d, v_d = u, v\n",
        "\n",
        "    # Шаг 2: Поиск коллизии\n",
        "    while True:\n",
        "        # Обновляем c и его логарифм\n",
        "        c = f(c)\n",
        "        u_c, v_c = log_f(c, u_c, v_c)\n",
        "\n",
        "        # Обновляем d и его логарифм (два шага)\n",
        "        d = f(f(d))\n",
        "        u_d, v_d = log_f(f(d), u_d, v_d)\n",
        "        u_d, v_d = log_f(d, u_d, v_d)\n",
        "\n",
        "        # Проверяем на коллизию\n",
        "        if c == d:\n",
        "            break\n",
        "\n",
        "    # Шаг 3: Решение сравнения\n",
        "    # Уравнение: (u_c + v_c * x) ≡ (u_d + v_d * x) mod order\n",
        "    A = (v_c - v_d) % order\n",
        "    B = (u_d - u_c) % order\n",
        "\n",
        "    # Решаем уравнение A * x ≡ B mod order\n",
        "    gcd, x, y = extended_gcd(A, order)\n",
        "    if B % gcd != 0:\n",
        "        return None  # Решение не существует\n",
        "\n",
        "    x = (x * (B // gcd)) % (order // gcd)\n",
        "    return x\n",
        "\n",
        "# Пример использования\n",
        "p = 107  # Простое число\n",
        "a = 10   # Основание\n",
        "b = 64   # Число, для которого ищем логарифм\n",
        "order = 53  # Порядок числа a по модулю p\n",
        "\n",
        "x = pollards_rho_discrete_log(a, b, p, order)\n",
        "if x is not None:\n",
        "    print(f\"Дискретный логарифм x = {x}\")\n",
        "    # Проверка\n",
        "    if pow(a, x, p) == b:\n",
        "        print(\"Проверка пройдена: a^x ≡ b mod p\")\n",
        "    else:\n",
        "        print(\"Ошибка: a^x ≠ b mod p\")\n",
        "else:\n",
        "    print(\"Решения нет\")"
      ],
      "metadata": {
        "colab": {
          "base_uri": "https://localhost:8080/"
        },
        "id": "YVATFJWHUdx5",
        "outputId": "6b21648f-8c90-42ea-8b8b-c047b00bd4c3"
      },
      "execution_count": 33,
      "outputs": [
        {
          "output_type": "stream",
          "name": "stdout",
          "text": [
            "Дискретный логарифм x = 20\n",
            "Проверка пройдена: a^x ≡ b mod p\n"
          ]
        }
      ]
    }
  ]
}