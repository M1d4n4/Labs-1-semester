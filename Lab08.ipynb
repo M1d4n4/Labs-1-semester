{
  "nbformat": 4,
  "nbformat_minor": 0,
  "metadata": {
    "colab": {
      "provenance": [],
      "authorship_tag": "ABX9TyOAdIgmnqzAlVkRrcZYtDfK"
    },
    "kernelspec": {
      "name": "python3",
      "display_name": "Python 3"
    },
    "language_info": {
      "name": "python"
    }
  },
  "cells": [
    {
      "cell_type": "code",
      "execution_count": 1,
      "metadata": {
        "colab": {
          "base_uri": "https://localhost:8080/"
        },
        "id": "V-q6m0AVHOnt",
        "outputId": "a418734b-f55c-4188-d6a3-31577d6197d9"
      },
      "outputs": [
        {
          "output_type": "stream",
          "name": "stdout",
          "text": [
            "Найден нетривиальный делитель числа 1359331: 1181\n"
          ]
        }
      ],
      "source": [
        "import math\n",
        "\n",
        "def pollards_rho(n, c=1, f=lambda x: (x**2 + 5) % n):\n",
        "    a = c\n",
        "    b = c\n",
        "    while True:\n",
        "        a = f(a) % n\n",
        "        b = f(f(b)) % n\n",
        "        d = math.gcd(abs(a - b), n)\n",
        "        if 1 < d < n:\n",
        "            return d\n",
        "        if d == n:\n",
        "            return None\n",
        "\n",
        "# Пример использования\n",
        "n = 1359331\n",
        "divisor = pollards_rho(n)\n",
        "if divisor:\n",
        "    print(f\"Найден нетривиальный делитель числа {n}: {divisor}\")\n",
        "else:\n",
        "    print(f\"Делитель числа {n} не найден\")\n"
      ]
    }
  ]
}