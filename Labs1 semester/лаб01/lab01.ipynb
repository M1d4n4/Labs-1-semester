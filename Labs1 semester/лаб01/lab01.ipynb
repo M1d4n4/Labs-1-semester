{
  "nbformat": 4,
  "nbformat_minor": 0,
  "metadata": {
    "colab": {
      "provenance": [],
      "authorship_tag": "ABX9TyPVM7SUSxvktGLL0rag6z6U"
    },
    "kernelspec": {
      "name": "python3",
      "display_name": "Python 3"
    },
    "language_info": {
      "name": "python"
    }
  },
  "cells": [
    {
      "cell_type": "markdown",
      "source": [],
      "metadata": {
        "id": "qMK_JCHZ4m7T"
      }
    },
    {
      "cell_type": "code",
      "source": [
        "def caesar_cipher(text, key):\n",
        "    alphabet = 'абвгдежзийклмнопрстуфхцчшщъыьэюя'  # Русский алфавит\n",
        "    result = []\n",
        "    for char in text.lower():\n",
        "        if char in alphabet:\n",
        "            idx = (alphabet.index(char) + key) % 32  # 32 буквы в русском алфавите\n",
        "            result.append(alphabet[idx])\n",
        "        else:\n",
        "            result.append(char)  # Оставляем пробелы и знаки препинания без изменений\n",
        "    return ''.join(result)\n",
        "\n",
        "# Пример использования\n",
        "text = \"Привет, мир!\"\n",
        "key = 3\n",
        "encrypted = caesar_cipher(text, key)\n",
        "print(\"Зашифрованный текст:\", encrypted)  # Вывод: \"прлгжу, плу!\""
      ],
      "metadata": {
        "colab": {
          "base_uri": "https://localhost:8080/"
        },
        "id": "j322u7zi4nzt",
        "outputId": "77cfc27d-e916-4ba9-d3ef-5693949b4ea2"
      },
      "execution_count": 1,
      "outputs": [
        {
          "output_type": "stream",
          "name": "stdout",
          "text": [
            "Зашифрованный текст: тулеих, плу!\n"
          ]
        }
      ]
    },
    {
      "cell_type": "code",
      "source": [
        "def atbash_cipher(text):\n",
        "    alphabet = 'абвгдежзийклмнопрстуфхцчшщъыьэюя'\n",
        "    reversed_alphabet = alphabet[::-1]  # Обратный алфавит\n",
        "    result = []\n",
        "    for char in text.lower():\n",
        "        if char in alphabet:\n",
        "            idx = alphabet.index(char)\n",
        "            result.append(reversed_alphabet[idx])\n",
        "        else:\n",
        "            result.append(char)  # Оставляем пробелы и знаки препинания без изменений\n",
        "    return ''.join(result)\n",
        "\n",
        "# Пример использования\n",
        "text = \"Пример\"\n",
        "encrypted = atbash_cipher(text)\n",
        "print(\"Зашифрованный текст:\", encrypted)  # Вывод: \"эпюгк\""
      ],
      "metadata": {
        "colab": {
          "base_uri": "https://localhost:8080/"
        },
        "id": "9kLYLHug4tcp",
        "outputId": "a1fe2fb4-ba9d-46c6-f30a-4f638bfbb1ae"
      },
      "execution_count": 2,
      "outputs": [
        {
          "output_type": "stream",
          "name": "stdout",
          "text": [
            "Зашифрованный текст: рпчуъп\n"
          ]
        }
      ]
    },
    {
      "cell_type": "code",
      "source": [],
      "metadata": {
        "id": "XaHpmzuD49TG"
      },
      "execution_count": null,
      "outputs": []
    }
  ]
}
