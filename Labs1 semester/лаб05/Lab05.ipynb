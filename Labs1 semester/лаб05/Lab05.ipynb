{
  "nbformat": 4,
  "nbformat_minor": 0,
  "metadata": {
    "colab": {
      "provenance": [],
      "authorship_tag": "ABX9TyNwtJvJoqzsP1EZa3dUhht1"
    },
    "kernelspec": {
      "name": "python3",
      "display_name": "Python 3"
    },
    "language_info": {
      "name": "python"
    }
  },
  "cells": [
    {
      "cell_type": "code",
      "execution_count": 1,
      "metadata": {
        "colab": {
          "base_uri": "https://localhost:8080/"
        },
        "id": "7JcVJZBRFZeC",
        "outputId": "329fcfae-f59a-4997-a6b7-5f9048bf85c7"
      },
      "outputs": [
        {
          "output_type": "stream",
          "name": "stdout",
          "text": [
            "Число 29 вероятно простое: True\n"
          ]
        }
      ],
      "source": [
        "import random\n",
        "\n",
        "def fermat_test(n, k=5):\n",
        "    if n <= 1:\n",
        "        return False\n",
        "    if n <= 3:\n",
        "        return True\n",
        "    for _ in range(k):\n",
        "        a = random.randint(2, n - 2)\n",
        "        if pow(a, n - 1, n) != 1:\n",
        "            return False\n",
        "    return True\n",
        "\n",
        "# Пример использования:\n",
        "n = 29\n",
        "print(f\"Число {n} вероятно простое: {fermat_test(n)}\")"
      ]
    },
    {
      "cell_type": "code",
      "source": [
        "import random\n",
        "\n",
        "def jacobi_symbol(a, n):\n",
        "    if n <= 0 or n % 2 == 0:\n",
        "        return 0\n",
        "    a = a % n\n",
        "    result = 1\n",
        "    while a != 0:\n",
        "        while a % 2 == 0:\n",
        "            a = a // 2\n",
        "            if n % 8 in [3, 5]:\n",
        "                result = -result\n",
        "        a, n = n, a\n",
        "        if a % 4 == 3 and n % 4 == 3:\n",
        "            result = -result\n",
        "        a = a % n\n",
        "    if n == 1:\n",
        "        return result\n",
        "    else:\n",
        "        return 0\n",
        "\n",
        "def solovay_strassen_test(n, k=5):\n",
        "    if n <= 1:\n",
        "        return False\n",
        "    if n <= 3:\n",
        "        return True\n",
        "    for _ in range(k):\n",
        "        a = random.randint(2, n - 2)\n",
        "        r = pow(a, (n - 1) // 2, n)\n",
        "        if r != 1 and r != n - 1:\n",
        "            return False\n",
        "        s = jacobi_symbol(a, n)\n",
        "        if r != s % n:\n",
        "            return False\n",
        "    return True\n",
        "\n",
        "# Пример использования:\n",
        "n = 29\n",
        "print(f\"Число {n} вероятно простое: {solovay_strassen_test(n)}\")"
      ],
      "metadata": {
        "colab": {
          "base_uri": "https://localhost:8080/"
        },
        "id": "7oOLdEk2GZQM",
        "outputId": "f628e6d5-1bc1-40b9-c25d-8ef9ea7f9ba8"
      },
      "execution_count": 2,
      "outputs": [
        {
          "output_type": "stream",
          "name": "stdout",
          "text": [
            "Число 29 вероятно простое: True\n"
          ]
        }
      ]
    },
    {
      "cell_type": "code",
      "source": [
        "import random\n",
        "\n",
        "def miller_rabin_test(n, k=5):\n",
        "    if n <= 1:\n",
        "        return False\n",
        "    if n <= 3:\n",
        "        return True\n",
        "    if n % 2 == 0:\n",
        "        return False\n",
        "\n",
        "    # Представляем n - 1 в виде 2^s * r\n",
        "    s = 0\n",
        "    r = n - 1\n",
        "    while r % 2 == 0:\n",
        "        s += 1\n",
        "        r //= 2\n",
        "\n",
        "    for _ in range(k):\n",
        "        a = random.randint(2, n - 2)\n",
        "        y = pow(a, r, n)\n",
        "        if y != 1 and y != n - 1:\n",
        "            j = 1\n",
        "            while j < s and y != n - 1:\n",
        "                y = pow(y, 2, n)\n",
        "                if y == 1:\n",
        "                    return False\n",
        "                j += 1\n",
        "            if y != n - 1:\n",
        "                return False\n",
        "    return True\n",
        "\n",
        "# Пример использования:\n",
        "n = 29\n",
        "print(f\"Число {n} вероятно простое: {miller_rabin_test(n)}\")"
      ],
      "metadata": {
        "colab": {
          "base_uri": "https://localhost:8080/"
        },
        "id": "Q9pFVGzYGjd_",
        "outputId": "0a9d93b5-ef65-407a-9365-53766c2799df"
      },
      "execution_count": 3,
      "outputs": [
        {
          "output_type": "stream",
          "name": "stdout",
          "text": [
            "Число 29 вероятно простое: True\n"
          ]
        }
      ]
    }
  ]
}
