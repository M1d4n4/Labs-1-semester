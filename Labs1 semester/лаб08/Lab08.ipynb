{
  "nbformat": 4,
  "nbformat_minor": 0,
  "metadata": {
    "colab": {
      "provenance": [],
      "authorship_tag": "ABX9TyP7i7hcFvk/+NTayGz+C+T2"
    },
    "kernelspec": {
      "name": "python3",
      "display_name": "Python 3"
    },
    "language_info": {
      "name": "python"
    }
  },
  "cells": [
    {
      "cell_type": "code",
      "source": [
        "def add(u, v, b):\n",
        "    n = len(u)\n",
        "    w = [0] * (n + 1)\n",
        "    k = 0\n",
        "    for j in range(n - 1, -1, -1):\n",
        "        w[j + 1] = (u[j] + v[j] + k) % b\n",
        "        k = (u[j] + v[j] + k) // b\n",
        "    w[0] = k\n",
        "    return w\n",
        "\n",
        "def subtract(u, v, b):\n",
        "    n = len(u)\n",
        "    w = [0] * n\n",
        "    k = 0\n",
        "    for j in range(n - 1, -1, -1):\n",
        "        w[j] = (u[j] - v[j] + k) % b\n",
        "        k = (u[j] - v[j] + k) // b\n",
        "    return w\n",
        "\n",
        "def multiply(u, v, b):\n",
        "    n = len(u)\n",
        "    m = len(v)\n",
        "    w = [0] * (m + n)\n",
        "    for j in range(m - 1, -1, -1):\n",
        "        if v[j] == 0:\n",
        "            w[j] = 0\n",
        "            continue\n",
        "        k = 0\n",
        "        for i in range(n - 1, -1, -1):\n",
        "            t = u[i] * v[j] + w[i + j + 1] + k\n",
        "            w[i + j + 1] = t % b\n",
        "            k = t // b\n",
        "        w[j] = k\n",
        "    return w\n",
        "\n",
        "def fast_column(u, v, b):\n",
        "    n = len(u)\n",
        "    m = len(v)\n",
        "    w = [0] * (m + n)\n",
        "    t = 0\n",
        "    for s in range(m + n):\n",
        "        for i in range(s + 1):\n",
        "            if n - i - 1 >= 0 and m - s + i - 1 >= 0:\n",
        "                t += u[n - i - 1] * v[m - s + i - 1]\n",
        "        w[m + n - s - 1] = t % b\n",
        "        t = t // b\n",
        "    return w\n",
        "\n",
        "def divide(u, v, b):\n",
        "    n = len(u)\n",
        "    t = len(v)\n",
        "    q = [0] * (n - t + 1)\n",
        "    while compare(u, shift_left(v, n - t, b)) >= 0:\n",
        "        q[n - t] += 1\n",
        "        u = subtract(u, shift_left(v, n - t, b), b)\n",
        "    for i in range(n, t, -1):\n",
        "        if u[i] >= v[t - 1]:\n",
        "            q[i - t - 1] = b - 1\n",
        "        else:\n",
        "            q[i - t - 1] = (u[i] * b + u[i - 1]) // v[t - 1]\n",
        "        while q[i - t - 1] * (v[t - 1] * b + v[t - 2]) > u[i] * b**2 + u[i - 1] * b + u[i - 2]:\n",
        "            q[i - t - 1] -= 1\n",
        "        u = subtract(u, multiply_by_digit(shift_left(v, i - t - 1, b), q[i - t - 1], b), b)\n",
        "        if u[0] < 0:\n",
        "            u = add(u, shift_left(v, i - t - 1, b), b)\n",
        "            q[i - t - 1] -= 1\n",
        "    r = u\n",
        "    return q, r"
      ],
      "metadata": {
        "id": "zwN3jQxLTKoi"
      },
      "execution_count": 32,
      "outputs": []
    }
  ]
}
